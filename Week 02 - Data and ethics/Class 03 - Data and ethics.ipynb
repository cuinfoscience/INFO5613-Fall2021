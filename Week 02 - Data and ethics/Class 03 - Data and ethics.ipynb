{
 "cells": [
  {
   "cell_type": "markdown",
   "metadata": {},
   "source": [
    "# INFO 5613 – Class 02: Data and Ethics\n",
    "\n",
    "[Brian C. Keegan, Ph.D.](http://brianckeegan.com/)  \n",
    "[Assistant Professor, Department of Information Science](https://www.colorado.edu/cmci/people/information-science/brian-c-keegan)  \n",
    "University of Colorado Boulder  \n",
    "\n",
    "Copyright and distributed under an [MIT License](https://opensource.org/licenses/MIT)"
   ]
  },
  {
   "cell_type": "markdown",
   "metadata": {},
   "source": [
    "## Libraries"
   ]
  },
  {
   "cell_type": "code",
   "execution_count": 1,
   "metadata": {},
   "outputs": [],
   "source": [
    "%matplotlib inline\n",
    "import matplotlib.pyplot as plt\n",
    "\n",
    "import numpy as np\n",
    "import pandas as pd\n",
    "import networkx as nx\n",
    "\n",
    "pd.options.display.max_columns = 100"
   ]
  },
  {
   "cell_type": "markdown",
   "metadata": {},
   "source": [
    "## Basic operations in `networkx`\n",
    "\n",
    "This is adapted from the following documentation and resources:\n",
    "* [networkx tutorial](https://networkx.org/documentation/stable/tutorial.html)\n",
    "* Georgiev, P. (2014). [NetworkX: \n",
    "Network Analysis with Python](https://www.cl.cam.ac.uk/teaching/1314/L109/tutorial.pdf)\n",
    "* Kapoor, A. (2018). [Social Network Analysis in Python](https://www.datacamp.com/community/tutorials/social-network-analysis-python)\n",
    "* Platt, E. (2019). [Network Science with Python and NetworkX Quick Start Guide](https://github.com/elplatt/Network-Science-with-Python-and-NetworkX-Quick-Start-Guide).\n",
    "* Wikipedia. (2021). [Graph representations](https://en.wikipedia.org/wiki/Template:Graph_representations)."
   ]
  },
  {
   "cell_type": "markdown",
   "metadata": {},
   "source": [
    "### Adding nodes and edges\n",
    "\n",
    "The basic pattern of creating networks in `networkx` involves starting with an empty version of a specific graph type and adding nodes and edges. These are toy examples to show the basic functionality, but we'll use rarely after we introduce alternative functions for working with real world data."
   ]
  },
  {
   "cell_type": "code",
   "execution_count": 2,
   "metadata": {},
   "outputs": [],
   "source": [
    "# Start with an empty graph object called g\n",
    "g = nx.Graph()"
   ]
  },
  {
   "cell_type": "code",
   "execution_count": 3,
   "metadata": {},
   "outputs": [],
   "source": [
    "# Add a node\n",
    "g.add_node('Brian')"
   ]
  },
  {
   "cell_type": "code",
   "execution_count": 4,
   "metadata": {},
   "outputs": [
    {
     "data": {
      "text/plain": [
       "NodeView(('Brian',))"
      ]
     },
     "execution_count": 4,
     "metadata": {},
     "output_type": "execute_result"
    }
   ],
   "source": [
    "# Inspect\n",
    "g.nodes()"
   ]
  },
  {
   "cell_type": "code",
   "execution_count": 5,
   "metadata": {},
   "outputs": [],
   "source": [
    "# Add an edge\n",
    "g.add_edge('Brian','Katy')"
   ]
  },
  {
   "cell_type": "code",
   "execution_count": 6,
   "metadata": {},
   "outputs": [
    {
     "data": {
      "text/plain": [
       "NodeView(('Brian', 'Katy'))"
      ]
     },
     "execution_count": 6,
     "metadata": {},
     "output_type": "execute_result"
    }
   ],
   "source": [
    "# Inspect nodes\n",
    "g.nodes()"
   ]
  },
  {
   "cell_type": "code",
   "execution_count": 7,
   "metadata": {},
   "outputs": [
    {
     "data": {
      "text/plain": [
       "EdgeView([('Brian', 'Katy')])"
      ]
     },
     "execution_count": 7,
     "metadata": {},
     "output_type": "execute_result"
    }
   ],
   "source": [
    "# Inspect edges\n",
    "g.edges()"
   ]
  },
  {
   "cell_type": "code",
   "execution_count": 8,
   "metadata": {},
   "outputs": [],
   "source": [
    "# Add a few edges\n",
    "g.add_edges_from([\n",
    "    ('Brian','Samantha'),\n",
    "    ('Brian','Lindsay'),\n",
    "    ('Brian','Laurie'),\n",
    "    ('Samantha','Katy'),\n",
    "    ('Samantha','Laurie'),\n",
    "    ('Laurie','Katy'),\n",
    "    ('Laurie','Hande'),\n",
    "    ('Samantha','Janet'),\n",
    "    ('Brian','Hande'),\n",
    "    ('Brian','Max'),\n",
    "    ('Brian','Jay'),\n",
    "    ('Brian','Priscilla'),\n",
    "    ('Brian','Lily'),\n",
    "    ('Brian','Clark'),\n",
    "    ('Brian','Josh')\n",
    "])"
   ]
  },
  {
   "cell_type": "code",
   "execution_count": 9,
   "metadata": {},
   "outputs": [
    {
     "data": {
      "text/plain": [
       "NodeView(('Brian', 'Katy', 'Samantha', 'Lindsay', 'Laurie', 'Hande', 'Janet', 'Max', 'Jay', 'Priscilla', 'Lily', 'Clark', 'Josh'))"
      ]
     },
     "execution_count": 9,
     "metadata": {},
     "output_type": "execute_result"
    }
   ],
   "source": [
    "# Inspect nodes\n",
    "g.nodes()"
   ]
  },
  {
   "cell_type": "code",
   "execution_count": 10,
   "metadata": {},
   "outputs": [
    {
     "data": {
      "image/png": "[encoded data removed]",
      "text/plain": [
       "<Figure size 432x288 with 1 Axes>"
      ]
     },
     "metadata": {},
     "output_type": "display_data"
    }
   ],
   "source": [
    "# Basic visualization\n",
    "nx.draw_networkx(g,font_color='darkred',font_weight='bold',node_size=100)"
   ]
  },
  {
   "cell_type": "markdown",
   "metadata": {},
   "source": [
    "#### Exercise\n",
    "\n",
    "Add more edges to the class network based on other relationships you may know."
   ]
  },
  {
   "cell_type": "code",
   "execution_count": null,
   "metadata": {},
   "outputs": [],
   "source": []
  },
  {
   "cell_type": "markdown",
   "metadata": {},
   "source": [
    "### Graph methods\n",
    "\n",
    "Checking the number of nodes and edges."
   ]
  },
  {
   "cell_type": "code",
   "execution_count": 11,
   "metadata": {},
   "outputs": [
    {
     "data": {
      "text/plain": [
       "13"
      ]
     },
     "execution_count": 11,
     "metadata": {},
     "output_type": "execute_result"
    }
   ],
   "source": [
    "# Count the number of nodes in the network\n",
    "g.number_of_nodes()"
   ]
  },
  {
   "cell_type": "code",
   "execution_count": 12,
   "metadata": {},
   "outputs": [
    {
     "data": {
      "text/plain": [
       "16"
      ]
     },
     "execution_count": 12,
     "metadata": {},
     "output_type": "execute_result"
    }
   ],
   "source": [
    "# Count the number of edges in the network\n",
    "g.number_of_edges()"
   ]
  },
  {
   "cell_type": "markdown",
   "metadata": {},
   "source": [
    "### Checking for nodes and edges\n",
    "\n",
    "Is a node in the network?"
   ]
  },
  {
   "cell_type": "code",
   "execution_count": 13,
   "metadata": {},
   "outputs": [
    {
     "data": {
      "text/plain": [
       "False"
      ]
     },
     "execution_count": 13,
     "metadata": {},
     "output_type": "execute_result"
    }
   ],
   "source": [
    "# Check the network for a node named \"Diana\"\n",
    "g.has_node('Dianna')"
   ]
  },
  {
   "cell_type": "markdown",
   "metadata": {},
   "source": [
    "Is an edge in the network?"
   ]
  },
  {
   "cell_type": "code",
   "execution_count": 14,
   "metadata": {},
   "outputs": [
    {
     "data": {
      "text/plain": [
       "False"
      ]
     },
     "execution_count": 14,
     "metadata": {},
     "output_type": "execute_result"
    }
   ],
   "source": [
    "# Check the network for an edge between \"Matt\" and \"Nandi\"\n",
    "g.has_edge('Matt','Nandi')"
   ]
  },
  {
   "cell_type": "markdown",
   "metadata": {},
   "source": [
    "### Neighbors\n",
    "\n",
    "The graph object is similar to a dictionary (more on this in a bit). Use accessor notation with a node name to retrieve its neighbors."
   ]
  },
  {
   "cell_type": "code",
   "execution_count": 15,
   "metadata": {},
   "outputs": [
    {
     "data": {
      "text/plain": [
       "AtlasView({'Brian': {}, 'Katy': {}, 'Laurie': {}, 'Janet': {}})"
      ]
     },
     "execution_count": 15,
     "metadata": {},
     "output_type": "execute_result"
    }
   ],
   "source": [
    "# Who are Samantha's neighbors in the network?\n",
    "g['Samantha']"
   ]
  },
  {
   "cell_type": "code",
   "execution_count": 16,
   "metadata": {},
   "outputs": [
    {
     "data": {
      "text/plain": [
       "['Brian', 'Katy', 'Laurie', 'Janet']"
      ]
     },
     "execution_count": 16,
     "metadata": {},
     "output_type": "execute_result"
    }
   ],
   "source": [
    "# You can also use the neighbors method\n",
    "list(g.neighbors('Samantha'))"
   ]
  },
  {
   "cell_type": "code",
   "execution_count": 19,
   "metadata": {},
   "outputs": [
    {
     "data": {
      "text/plain": [
       "['Brian', 'Samantha', 'Katy', 'Hande']"
      ]
     },
     "execution_count": 19,
     "metadata": {},
     "output_type": "execute_result"
    }
   ],
   "source": [
    "list(g.neighbors('Laurie'))"
   ]
  },
  {
   "cell_type": "markdown",
   "metadata": {},
   "source": [
    "### Node and edge properties\n",
    "\n",
    "We can add additional meta-data to the nodes and edges in the network."
   ]
  },
  {
   "cell_type": "code",
   "execution_count": 22,
   "metadata": {},
   "outputs": [],
   "source": [
    "# Add node attribute called \"role\" for Brian\n",
    "g.nodes['Brian']['role'] = 'Faculty'"
   ]
  },
  {
   "cell_type": "code",
   "execution_count": 24,
   "metadata": {},
   "outputs": [
    {
     "data": {
      "text/plain": [
       "{}"
      ]
     },
     "execution_count": 24,
     "metadata": {},
     "output_type": "execute_result"
    }
   ],
   "source": [
    "# Access a node's attribute\n",
    "g.nodes['Brian']"
   ]
  },
  {
   "cell_type": "code",
   "execution_count": 27,
   "metadata": {},
   "outputs": [
    {
     "data": {
      "text/plain": [
       "NodeDataView({'Brian': {'role': 'Faculty'}, 'Katy': {}, 'Samantha': {}, 'Lindsay': {}, 'Laurie': {}, 'Hande': {}, 'Janet': {}, 'Max': {}, 'Jay': {}, 'Priscilla': {}, 'Lily': {}, 'Clark': {}, 'Josh': {}})"
      ]
     },
     "execution_count": 27,
     "metadata": {},
     "output_type": "execute_result"
    }
   ],
   "source": [
    "# Retrieve all nodes' attributes\n",
    "g.nodes().data()"
   ]
  },
  {
   "cell_type": "code",
   "execution_count": 28,
   "metadata": {},
   "outputs": [
    {
     "data": {
      "text/plain": [
       "NodeDataView({'Brian': {'role': 'Faculty'}, 'Katy': {}, 'Samantha': {}, 'Lindsay': {}, 'Laurie': {}, 'Hande': {}, 'Janet': {}, 'Max': {}, 'Jay': {}, 'Priscilla': {}, 'Lily': {}, 'Clark': {}, 'Josh': {}})"
      ]
     },
     "execution_count": 28,
     "metadata": {},
     "output_type": "execute_result"
    }
   ],
   "source": [
    "g.nodes(data=True)"
   ]
  },
  {
   "cell_type": "markdown",
   "metadata": {},
   "source": [
    "We can similarly add meta-data to the edges."
   ]
  },
  {
   "cell_type": "code",
   "execution_count": 29,
   "metadata": {},
   "outputs": [],
   "source": [
    "# Add three relations\n",
    "g['Brian']['Samantha']['relation'] = 'Advising'\n",
    "g['Brian']['Katy']['relation'] = 'Advising'\n",
    "g['Brian']['Laurie']['relation'] = 'Advising'"
   ]
  },
  {
   "cell_type": "code",
   "execution_count": 30,
   "metadata": {},
   "outputs": [],
   "source": [
    "# Add another kind of meta-data\n",
    "g['Brian']['Samantha']['years'] = 1\n",
    "g['Brian']['Katy']['years'] = 1\n",
    "g['Brian']['Laurie']['years'] = 0"
   ]
  },
  {
   "cell_type": "markdown",
   "metadata": {},
   "source": [
    "We can add a bunch of meta data at once with a `[(node1,node2,dict)]` format where the `dict` contains the labels and values of the meta-data."
   ]
  },
  {
   "cell_type": "code",
   "execution_count": 37,
   "metadata": {},
   "outputs": [],
   "source": [
    "g.add_edges_from([\n",
    "    ('Samantha','Katy',{'relation':'labmate','years':1}),\n",
    "    ('Samantha','Laurie',{'relation':'labmate','years':0}),\n",
    "    ('Laurie','Katy',{'relation':'labmate','years':0}),\n",
    "    ('Laurie','Hande',{'relation':'cohort','years':0}),\n",
    "    ('Samantha','Janet',{'relation':'friend','years':1}),\n",
    "    ('Brian','Hande',{'relation':'teaching','years':3}),\n",
    "    ('Brian','Max',{'relation':'teaching','years':2}),\n",
    "    ('Brian','Jay',{'relation':'teaching','years':1}),\n",
    "    ('Brian','Priscilla',{'relation':'teaching','years':1}),\n",
    "    ('Brian','Lily',{'relation':'teaching','years':1}),\n",
    "    ('Brian','Clark',{'relation':'teaching','years':1}),\n",
    "    ('Brian','Josh',{'relation':'beeclub','years':2}),\n",
    "    ('Brian','Lindsay',{'relation':'teaching','years':0}),\n",
    "])"
   ]
  },
  {
   "cell_type": "code",
   "execution_count": 32,
   "metadata": {},
   "outputs": [
    {
     "data": {
      "text/plain": [
       "EdgeDataView([('Brian', 'Katy', {'relation': 'Advising', 'years': 1}), ('Brian', 'Samantha', {'relation': 'Advising', 'years': 1}), ('Brian', 'Lindsay', {}), ('Brian', 'Laurie', {'relation': 'Advising', 'years': 0}), ('Brian', 'Hande', {'relation': 'teaching', 'years': 3}), ('Brian', 'Max', {'relation': 'teaching', 'years': 2}), ('Brian', 'Jay', {'relation': 'teaching', 'years': 1}), ('Brian', 'Priscilla', {'relation': 'teaching', 'years': 1}), ('Brian', 'Lily', {'relation': 'teaching', 'years': 1}), ('Brian', 'Clark', {'relation': 'teaching', 'years': 1}), ('Brian', 'Josh', {'relation': 'beeclub', 'years': 2}), ('Katy', 'Samantha', {'relation': 'labmate', 'years': 1}), ('Katy', 'Laurie', {'relation': 'labmate', 'years': 0}), ('Samantha', 'Laurie', {'relation': 'labmate', 'years': 0}), ('Samantha', 'Janet', {'relation': 'friend', 'years': 1}), ('Laurie', 'Hande', {'relation': 'cohort', 'years': 0})])"
      ]
     },
     "execution_count": 32,
     "metadata": {},
     "output_type": "execute_result"
    }
   ],
   "source": [
    "# Access edge data\n",
    "g.edges().data()"
   ]
  },
  {
   "cell_type": "code",
   "execution_count": 33,
   "metadata": {},
   "outputs": [
    {
     "data": {
      "text/plain": [
       "EdgeDataView([('Brian', 'Katy', {'relation': 'Advising', 'years': 1}), ('Brian', 'Samantha', {'relation': 'Advising', 'years': 1}), ('Brian', 'Lindsay', {}), ('Brian', 'Laurie', {'relation': 'Advising', 'years': 0}), ('Brian', 'Hande', {'relation': 'teaching', 'years': 3}), ('Brian', 'Max', {'relation': 'teaching', 'years': 2}), ('Brian', 'Jay', {'relation': 'teaching', 'years': 1}), ('Brian', 'Priscilla', {'relation': 'teaching', 'years': 1}), ('Brian', 'Lily', {'relation': 'teaching', 'years': 1}), ('Brian', 'Clark', {'relation': 'teaching', 'years': 1}), ('Brian', 'Josh', {'relation': 'beeclub', 'years': 2}), ('Katy', 'Samantha', {'relation': 'labmate', 'years': 1}), ('Katy', 'Laurie', {'relation': 'labmate', 'years': 0}), ('Samantha', 'Laurie', {'relation': 'labmate', 'years': 0}), ('Samantha', 'Janet', {'relation': 'friend', 'years': 1}), ('Laurie', 'Hande', {'relation': 'cohort', 'years': 0})])"
      ]
     },
     "execution_count": 33,
     "metadata": {},
     "output_type": "execute_result"
    }
   ],
   "source": [
    "g.edges(data=True)"
   ]
  },
  {
   "cell_type": "code",
   "execution_count": 36,
   "metadata": {},
   "outputs": [
    {
     "data": {
      "text/plain": [
       "EdgeDataView([('Brian', 'Katy', {'relation': 'Advising', 'years': 1}), ('Brian', 'Samantha', {'relation': 'Advising', 'years': 1}), ('Brian', 'Lindsay', {}), ('Brian', 'Laurie', {'relation': 'Advising', 'years': 0}), ('Brian', 'Hande', {'relation': 'teaching', 'years': 3}), ('Brian', 'Max', {'relation': 'teaching', 'years': 2}), ('Brian', 'Jay', {'relation': 'teaching', 'years': 1}), ('Brian', 'Priscilla', {'relation': 'teaching', 'years': 1}), ('Brian', 'Lily', {'relation': 'teaching', 'years': 1}), ('Brian', 'Clark', {'relation': 'teaching', 'years': 1}), ('Brian', 'Josh', {'relation': 'beeclub', 'years': 2}), ('Katy', 'Samantha', {'relation': 'labmate', 'years': 1}), ('Katy', 'Laurie', {'relation': 'labmate', 'years': 0}), ('Samantha', 'Laurie', {'relation': 'labmate', 'years': 0}), ('Samantha', 'Janet', {'relation': 'friend', 'years': 1}), ('Laurie', 'Hande', {'relation': 'cohort', 'years': 0})])"
      ]
     },
     "execution_count": 36,
     "metadata": {},
     "output_type": "execute_result"
    }
   ],
   "source": [
    "g.edges(data=True)"
   ]
  },
  {
   "cell_type": "code",
   "execution_count": 38,
   "metadata": {},
   "outputs": [
    {
     "data": {
      "image/png": "[encoded data removed]",
      "text/plain": [
       "<Figure size 432x288 with 1 Axes>"
      ]
     },
     "metadata": {},
     "output_type": "display_data"
    }
   ],
   "source": [
    "# Basic visualization\n",
    "nx.draw_networkx(\n",
    "    g,\n",
    "    font_color='darkred',\n",
    "    font_weight='bold',\n",
    "    node_size=100,\n",
    "    width=[2*d['years']+1 for i,j,d in g.edges(data=True)]\n",
    ")"
   ]
  },
  {
   "cell_type": "markdown",
   "metadata": {},
   "source": [
    "#### Exercise\n",
    "Add some more metadata to the nodes and/or edges in the network."
   ]
  },
  {
   "cell_type": "code",
   "execution_count": null,
   "metadata": {},
   "outputs": [],
   "source": []
  },
  {
   "cell_type": "markdown",
   "metadata": {},
   "source": [
    "## Network data structures\n",
    "\n",
    "This is an example undirected network that (unusually) encodes a self-loop on node 1 (node 1 is connected to itself).\n",
    "![Wikipedia graph](https://upload.wikimedia.org/wikipedia/commons/thumb/2/28/6n-graph2.svg/375px-6n-graph2.svg.png)"
   ]
  },
  {
   "cell_type": "markdown",
   "metadata": {},
   "source": [
    "### Edge list\n",
    "\n",
    "An *edge list* is the collection of the edges defined by their start and stop nodes.\n",
    "\n",
    "`[(1,1),\n",
    "  (1,2),\n",
    "  (1,5),\n",
    "  (2,3),\n",
    "  (3,4),\n",
    "  (4,5),\n",
    "  (4,6)\n",
    " ]`\n",
    "\n",
    "This data structure is space-efficient (only edges that exist are represented) which makes it one of the most popular ways of representing network data in various frameworks. But it is not very accssible for humans to apprehend or to enter data.\n",
    "\n",
    "`networkx` represents a graph using this data structure by default. Here's our class network:"
   ]
  },
  {
   "cell_type": "code",
   "execution_count": 39,
   "metadata": {},
   "outputs": [
    {
     "data": {
      "text/plain": [
       "EdgeView([('Brian', 'Katy'), ('Brian', 'Samantha'), ('Brian', 'Lindsay'), ('Brian', 'Laurie'), ('Brian', 'Hande'), ('Brian', 'Max'), ('Brian', 'Jay'), ('Brian', 'Priscilla'), ('Brian', 'Lily'), ('Brian', 'Clark'), ('Brian', 'Josh'), ('Katy', 'Samantha'), ('Katy', 'Laurie'), ('Samantha', 'Laurie'), ('Samantha', 'Janet'), ('Laurie', 'Hande')])"
      ]
     },
     "execution_count": 39,
     "metadata": {},
     "output_type": "execute_result"
    }
   ],
   "source": [
    "g.edges()"
   ]
  },
  {
   "cell_type": "markdown",
   "metadata": {},
   "source": [
    "### Adjacency matrix\n",
    "\n",
    "An *adjacency matrix* is a square matrix of the nodes and the values of the matrix are whether a tie exists (binary) or valued (weighted). If the network is undirected, the matrix is symmetric around the diagonal. If the network is directed, the matrix is non-symmetric.\n",
    "\n",
    "\n",
    "|     | 1 | 2 | 3 | 4 | 5 | 6 |\n",
    "| --- | --- | --- | --- | --- | --- | --- |\n",
    "| **1** | 1 | 1 | 0 | 0 | 1 | 0 | \n",
    "| **2** | 1 | 0 | 1 | 0 | 1 | 0 | \n",
    "| **3** | 0 | 1 | 0 | 1 | 0 | 0 | \n",
    "| **4** | 0 | 0 | 1 | 0 | 1 | 0 | \n",
    "| **5** | 1 | 1 | 0 | 1 | 0 | 0 | \n",
    "| **6** | 0 | 0 | 0 | 1 | 0 | 0 | \n",
    "\n",
    "This data structure is somewhat easier for humans to understand but it encodes a lot of unneeded data with the 0s.\n",
    "\n",
    "`networkx` can display this data a few functions. Here's our class network:"
   ]
  },
  {
   "cell_type": "code",
   "execution_count": 40,
   "metadata": {},
   "outputs": [
    {
     "data": {
      "text/plain": [
       "matrix([[0, 1, 1, 1, 1, 1, 0, 1, 1, 1, 1, 1, 1],\n",
       "        [1, 0, 1, 0, 1, 0, 0, 0, 0, 0, 0, 0, 0],\n",
       "        [1, 1, 0, 0, 1, 0, 1, 0, 0, 0, 0, 0, 0],\n",
       "        [1, 0, 0, 0, 0, 0, 0, 0, 0, 0, 0, 0, 0],\n",
       "        [1, 1, 1, 0, 0, 1, 0, 0, 0, 0, 0, 0, 0],\n",
       "        [1, 0, 0, 0, 1, 0, 0, 0, 0, 0, 0, 0, 0],\n",
       "        [0, 0, 1, 0, 0, 0, 0, 0, 0, 0, 0, 0, 0],\n",
       "        [1, 0, 0, 0, 0, 0, 0, 0, 0, 0, 0, 0, 0],\n",
       "        [1, 0, 0, 0, 0, 0, 0, 0, 0, 0, 0, 0, 0],\n",
       "        [1, 0, 0, 0, 0, 0, 0, 0, 0, 0, 0, 0, 0],\n",
       "        [1, 0, 0, 0, 0, 0, 0, 0, 0, 0, 0, 0, 0],\n",
       "        [1, 0, 0, 0, 0, 0, 0, 0, 0, 0, 0, 0, 0],\n",
       "        [1, 0, 0, 0, 0, 0, 0, 0, 0, 0, 0, 0, 0]], dtype=int32)"
      ]
     },
     "execution_count": 40,
     "metadata": {},
     "output_type": "execute_result"
    }
   ],
   "source": [
    "# Representing with numpy\n",
    "nx.adjacency_matrix(g).todense()"
   ]
  },
  {
   "cell_type": "code",
   "execution_count": 41,
   "metadata": {},
   "outputs": [
    {
     "data": {
      "text/html": [
       "<div>\n",
       "<style scoped>\n",
       "    .dataframe tbody tr th:only-of-type {\n",
       "        vertical-align: middle;\n",
       "    }\n",
       "\n",
       "    .dataframe tbody tr th {\n",
       "        vertical-align: top;\n",
       "    }\n",
       "\n",
       "    .dataframe thead th {\n",
       "        text-align: right;\n",
       "    }\n",
       "</style>\n",
       "<table border=\"1\" class=\"dataframe\">\n",
       "  <thead>\n",
       "    <tr style=\"text-align: right;\">\n",
       "      <th></th>\n",
       "      <th>Brian</th>\n",
       "      <th>Katy</th>\n",
       "      <th>Samantha</th>\n",
       "      <th>Lindsay</th>\n",
       "      <th>Laurie</th>\n",
       "      <th>Hande</th>\n",
       "      <th>Janet</th>\n",
       "      <th>Max</th>\n",
       "      <th>Jay</th>\n",
       "      <th>Priscilla</th>\n",
       "      <th>Lily</th>\n",
       "      <th>Clark</th>\n",
       "      <th>Josh</th>\n",
       "    </tr>\n",
       "  </thead>\n",
       "  <tbody>\n",
       "    <tr>\n",
       "      <th>Brian</th>\n",
       "      <td>0.0</td>\n",
       "      <td>1.0</td>\n",
       "      <td>1.0</td>\n",
       "      <td>1.0</td>\n",
       "      <td>1.0</td>\n",
       "      <td>1.0</td>\n",
       "      <td>0.0</td>\n",
       "      <td>1.0</td>\n",
       "      <td>1.0</td>\n",
       "      <td>1.0</td>\n",
       "      <td>1.0</td>\n",
       "      <td>1.0</td>\n",
       "      <td>1.0</td>\n",
       "    </tr>\n",
       "    <tr>\n",
       "      <th>Katy</th>\n",
       "      <td>1.0</td>\n",
       "      <td>0.0</td>\n",
       "      <td>1.0</td>\n",
       "      <td>0.0</td>\n",
       "      <td>1.0</td>\n",
       "      <td>0.0</td>\n",
       "      <td>0.0</td>\n",
       "      <td>0.0</td>\n",
       "      <td>0.0</td>\n",
       "      <td>0.0</td>\n",
       "      <td>0.0</td>\n",
       "      <td>0.0</td>\n",
       "      <td>0.0</td>\n",
       "    </tr>\n",
       "    <tr>\n",
       "      <th>Samantha</th>\n",
       "      <td>1.0</td>\n",
       "      <td>1.0</td>\n",
       "      <td>0.0</td>\n",
       "      <td>0.0</td>\n",
       "      <td>1.0</td>\n",
       "      <td>0.0</td>\n",
       "      <td>1.0</td>\n",
       "      <td>0.0</td>\n",
       "      <td>0.0</td>\n",
       "      <td>0.0</td>\n",
       "      <td>0.0</td>\n",
       "      <td>0.0</td>\n",
       "      <td>0.0</td>\n",
       "    </tr>\n",
       "    <tr>\n",
       "      <th>Lindsay</th>\n",
       "      <td>1.0</td>\n",
       "      <td>0.0</td>\n",
       "      <td>0.0</td>\n",
       "      <td>0.0</td>\n",
       "      <td>0.0</td>\n",
       "      <td>0.0</td>\n",
       "      <td>0.0</td>\n",
       "      <td>0.0</td>\n",
       "      <td>0.0</td>\n",
       "      <td>0.0</td>\n",
       "      <td>0.0</td>\n",
       "      <td>0.0</td>\n",
       "      <td>0.0</td>\n",
       "    </tr>\n",
       "    <tr>\n",
       "      <th>Laurie</th>\n",
       "      <td>1.0</td>\n",
       "      <td>1.0</td>\n",
       "      <td>1.0</td>\n",
       "      <td>0.0</td>\n",
       "      <td>0.0</td>\n",
       "      <td>1.0</td>\n",
       "      <td>0.0</td>\n",
       "      <td>0.0</td>\n",
       "      <td>0.0</td>\n",
       "      <td>0.0</td>\n",
       "      <td>0.0</td>\n",
       "      <td>0.0</td>\n",
       "      <td>0.0</td>\n",
       "    </tr>\n",
       "    <tr>\n",
       "      <th>Hande</th>\n",
       "      <td>1.0</td>\n",
       "      <td>0.0</td>\n",
       "      <td>0.0</td>\n",
       "      <td>0.0</td>\n",
       "      <td>1.0</td>\n",
       "      <td>0.0</td>\n",
       "      <td>0.0</td>\n",
       "      <td>0.0</td>\n",
       "      <td>0.0</td>\n",
       "      <td>0.0</td>\n",
       "      <td>0.0</td>\n",
       "      <td>0.0</td>\n",
       "      <td>0.0</td>\n",
       "    </tr>\n",
       "    <tr>\n",
       "      <th>Janet</th>\n",
       "      <td>0.0</td>\n",
       "      <td>0.0</td>\n",
       "      <td>1.0</td>\n",
       "      <td>0.0</td>\n",
       "      <td>0.0</td>\n",
       "      <td>0.0</td>\n",
       "      <td>0.0</td>\n",
       "      <td>0.0</td>\n",
       "      <td>0.0</td>\n",
       "      <td>0.0</td>\n",
       "      <td>0.0</td>\n",
       "      <td>0.0</td>\n",
       "      <td>0.0</td>\n",
       "    </tr>\n",
       "    <tr>\n",
       "      <th>Max</th>\n",
       "      <td>1.0</td>\n",
       "      <td>0.0</td>\n",
       "      <td>0.0</td>\n",
       "      <td>0.0</td>\n",
       "      <td>0.0</td>\n",
       "      <td>0.0</td>\n",
       "      <td>0.0</td>\n",
       "      <td>0.0</td>\n",
       "      <td>0.0</td>\n",
       "      <td>0.0</td>\n",
       "      <td>0.0</td>\n",
       "      <td>0.0</td>\n",
       "      <td>0.0</td>\n",
       "    </tr>\n",
       "    <tr>\n",
       "      <th>Jay</th>\n",
       "      <td>1.0</td>\n",
       "      <td>0.0</td>\n",
       "      <td>0.0</td>\n",
       "      <td>0.0</td>\n",
       "      <td>0.0</td>\n",
       "      <td>0.0</td>\n",
       "      <td>0.0</td>\n",
       "      <td>0.0</td>\n",
       "      <td>0.0</td>\n",
       "      <td>0.0</td>\n",
       "      <td>0.0</td>\n",
       "      <td>0.0</td>\n",
       "      <td>0.0</td>\n",
       "    </tr>\n",
       "    <tr>\n",
       "      <th>Priscilla</th>\n",
       "      <td>1.0</td>\n",
       "      <td>0.0</td>\n",
       "      <td>0.0</td>\n",
       "      <td>0.0</td>\n",
       "      <td>0.0</td>\n",
       "      <td>0.0</td>\n",
       "      <td>0.0</td>\n",
       "      <td>0.0</td>\n",
       "      <td>0.0</td>\n",
       "      <td>0.0</td>\n",
       "      <td>0.0</td>\n",
       "      <td>0.0</td>\n",
       "      <td>0.0</td>\n",
       "    </tr>\n",
       "    <tr>\n",
       "      <th>Lily</th>\n",
       "      <td>1.0</td>\n",
       "      <td>0.0</td>\n",
       "      <td>0.0</td>\n",
       "      <td>0.0</td>\n",
       "      <td>0.0</td>\n",
       "      <td>0.0</td>\n",
       "      <td>0.0</td>\n",
       "      <td>0.0</td>\n",
       "      <td>0.0</td>\n",
       "      <td>0.0</td>\n",
       "      <td>0.0</td>\n",
       "      <td>0.0</td>\n",
       "      <td>0.0</td>\n",
       "    </tr>\n",
       "    <tr>\n",
       "      <th>Clark</th>\n",
       "      <td>1.0</td>\n",
       "      <td>0.0</td>\n",
       "      <td>0.0</td>\n",
       "      <td>0.0</td>\n",
       "      <td>0.0</td>\n",
       "      <td>0.0</td>\n",
       "      <td>0.0</td>\n",
       "      <td>0.0</td>\n",
       "      <td>0.0</td>\n",
       "      <td>0.0</td>\n",
       "      <td>0.0</td>\n",
       "      <td>0.0</td>\n",
       "      <td>0.0</td>\n",
       "    </tr>\n",
       "    <tr>\n",
       "      <th>Josh</th>\n",
       "      <td>1.0</td>\n",
       "      <td>0.0</td>\n",
       "      <td>0.0</td>\n",
       "      <td>0.0</td>\n",
       "      <td>0.0</td>\n",
       "      <td>0.0</td>\n",
       "      <td>0.0</td>\n",
       "      <td>0.0</td>\n",
       "      <td>0.0</td>\n",
       "      <td>0.0</td>\n",
       "      <td>0.0</td>\n",
       "      <td>0.0</td>\n",
       "      <td>0.0</td>\n",
       "    </tr>\n",
       "  </tbody>\n",
       "</table>\n",
       "</div>"
      ],
      "text/plain": [
       "           Brian  Katy  Samantha  Lindsay  Laurie  Hande  Janet  Max  Jay  \\\n",
       "Brian        0.0   1.0       1.0      1.0     1.0    1.0    0.0  1.0  1.0   \n",
       "Katy         1.0   0.0       1.0      0.0     1.0    0.0    0.0  0.0  0.0   \n",
       "Samantha     1.0   1.0       0.0      0.0     1.0    0.0    1.0  0.0  0.0   \n",
       "Lindsay      1.0   0.0       0.0      0.0     0.0    0.0    0.0  0.0  0.0   \n",
       "Laurie       1.0   1.0       1.0      0.0     0.0    1.0    0.0  0.0  0.0   \n",
       "Hande        1.0   0.0       0.0      0.0     1.0    0.0    0.0  0.0  0.0   \n",
       "Janet        0.0   0.0       1.0      0.0     0.0    0.0    0.0  0.0  0.0   \n",
       "Max          1.0   0.0       0.0      0.0     0.0    0.0    0.0  0.0  0.0   \n",
       "Jay          1.0   0.0       0.0      0.0     0.0    0.0    0.0  0.0  0.0   \n",
       "Priscilla    1.0   0.0       0.0      0.0     0.0    0.0    0.0  0.0  0.0   \n",
       "Lily         1.0   0.0       0.0      0.0     0.0    0.0    0.0  0.0  0.0   \n",
       "Clark        1.0   0.0       0.0      0.0     0.0    0.0    0.0  0.0  0.0   \n",
       "Josh         1.0   0.0       0.0      0.0     0.0    0.0    0.0  0.0  0.0   \n",
       "\n",
       "           Priscilla  Lily  Clark  Josh  \n",
       "Brian            1.0   1.0    1.0   1.0  \n",
       "Katy             0.0   0.0    0.0   0.0  \n",
       "Samantha         0.0   0.0    0.0   0.0  \n",
       "Lindsay          0.0   0.0    0.0   0.0  \n",
       "Laurie           0.0   0.0    0.0   0.0  \n",
       "Hande            0.0   0.0    0.0   0.0  \n",
       "Janet            0.0   0.0    0.0   0.0  \n",
       "Max              0.0   0.0    0.0   0.0  \n",
       "Jay              0.0   0.0    0.0   0.0  \n",
       "Priscilla        0.0   0.0    0.0   0.0  \n",
       "Lily             0.0   0.0    0.0   0.0  \n",
       "Clark            0.0   0.0    0.0   0.0  \n",
       "Josh             0.0   0.0    0.0   0.0  "
      ]
     },
     "execution_count": 41,
     "metadata": {},
     "output_type": "execute_result"
    }
   ],
   "source": [
    "# Using pandas to get node labels\n",
    "nx.to_pandas_adjacency(g)"
   ]
  },
  {
   "cell_type": "markdown",
   "metadata": {},
   "source": [
    "### Adjacency list\n",
    "\n",
    "An *adjacency list* describes the neighbors of each node.\n",
    "\n",
    "```\n",
    "{1:[1,2,5],\n",
    " 2:[1,3,5],\n",
    " 3:[2,4],\n",
    " 4:[3,5,6],\n",
    " 5:[1,2,4],\n",
    " 6:[4]\n",
    "}\n",
    "```\n",
    "\n",
    "This data structure is commonly used in a variety of computer and data science settings and is even more information-dense than an edge list, but has performance trade-offs for many common network science metrics.\n",
    "\n",
    "`networkx` can display this data with the `.adjacency()` method. Here's our class network:"
   ]
  },
  {
   "cell_type": "code",
   "execution_count": 42,
   "metadata": {},
   "outputs": [
    {
     "data": {
      "text/plain": [
       "[('Brian',\n",
       "  {'Katy': {'relation': 'Advising', 'years': 1},\n",
       "   'Samantha': {'relation': 'Advising', 'years': 1},\n",
       "   'Lindsay': {'relation': 'teaching', 'years': 0},\n",
       "   'Laurie': {'relation': 'Advising', 'years': 0},\n",
       "   'Hande': {'relation': 'teaching', 'years': 3},\n",
       "   'Max': {'relation': 'teaching', 'years': 2},\n",
       "   'Jay': {'relation': 'teaching', 'years': 1},\n",
       "   'Priscilla': {'relation': 'teaching', 'years': 1},\n",
       "   'Lily': {'relation': 'teaching', 'years': 1},\n",
       "   'Clark': {'relation': 'teaching', 'years': 1},\n",
       "   'Josh': {'relation': 'beeclub', 'years': 2}}),\n",
       " ('Katy',\n",
       "  {'Brian': {'relation': 'Advising', 'years': 1},\n",
       "   'Samantha': {'relation': 'labmate', 'years': 1},\n",
       "   'Laurie': {'relation': 'labmate', 'years': 0}}),\n",
       " ('Samantha',\n",
       "  {'Brian': {'relation': 'Advising', 'years': 1},\n",
       "   'Katy': {'relation': 'labmate', 'years': 1},\n",
       "   'Laurie': {'relation': 'labmate', 'years': 0},\n",
       "   'Janet': {'relation': 'friend', 'years': 1}}),\n",
       " ('Lindsay', {'Brian': {'relation': 'teaching', 'years': 0}}),\n",
       " ('Laurie',\n",
       "  {'Brian': {'relation': 'Advising', 'years': 0},\n",
       "   'Samantha': {'relation': 'labmate', 'years': 0},\n",
       "   'Katy': {'relation': 'labmate', 'years': 0},\n",
       "   'Hande': {'relation': 'cohort', 'years': 0}}),\n",
       " ('Hande',\n",
       "  {'Laurie': {'relation': 'cohort', 'years': 0},\n",
       "   'Brian': {'relation': 'teaching', 'years': 3}}),\n",
       " ('Janet', {'Samantha': {'relation': 'friend', 'years': 1}}),\n",
       " ('Max', {'Brian': {'relation': 'teaching', 'years': 2}}),\n",
       " ('Jay', {'Brian': {'relation': 'teaching', 'years': 1}}),\n",
       " ('Priscilla', {'Brian': {'relation': 'teaching', 'years': 1}}),\n",
       " ('Lily', {'Brian': {'relation': 'teaching', 'years': 1}}),\n",
       " ('Clark', {'Brian': {'relation': 'teaching', 'years': 1}}),\n",
       " ('Josh', {'Brian': {'relation': 'beeclub', 'years': 2}})]"
      ]
     },
     "execution_count": 42,
     "metadata": {},
     "output_type": "execute_result"
    }
   ],
   "source": [
    "list(g.adjacency())"
   ]
  },
  {
   "cell_type": "markdown",
   "metadata": {},
   "source": [
    "## File formats\n",
    "\n",
    "There are many different file formats for representing and storing network data. Each file format makes different design decisions about data structures, meta-data, and support for more advanced types of graphs. This visualization summarizes some of the most popular file formats.\n",
    "\n",
    "![Graph data format comparison](https://gephi.org/images/graph-format-table-comparison.png)\n",
    "<center><b>Figure.</b> From <a href=\"https://gephi.org/users/supported-graph-formats/\">Gephi.</a></center>\n",
    "\n",
    "`networkx` supports file input/reading and output/writing with a variety of these formats. See the [documentation for the readwrite](https://networkx.org/documentation/stable/reference/readwrite/index.html) module for more details."
   ]
  },
  {
   "cell_type": "markdown",
   "metadata": {},
   "source": [
    "### Reading and writing edgelists\n",
    "\n",
    "The edgelist representation of the data can be stored in a CSV-style table or as a JSON-style document.\n",
    "\n",
    "#### Writing data\n",
    "Use the `to_pandas_edgelist()` function to generate the CSV-style table."
   ]
  },
  {
   "cell_type": "code",
   "execution_count": null,
   "metadata": {},
   "outputs": [],
   "source": [
    "nx.to_pandas_edgelist(g)"
   ]
  },
  {
   "cell_type": "markdown",
   "metadata": {},
   "source": [
    "Assign the pandas DataFrame to a variable and you can write it to disk using `pandas`'s `.to_csv()` method."
   ]
  },
  {
   "cell_type": "code",
   "execution_count": null,
   "metadata": {},
   "outputs": [],
   "source": [
    "g_pandas_edgelist_df = nx.to_pandas_edgelist(g)\n",
    "g_pandas_edgelist_df.to_csv('class_edgelist_pandas.csv')"
   ]
  },
  {
   "cell_type": "markdown",
   "metadata": {},
   "source": [
    "If you want to keep it in the JSON-style document, we can use the `json` library to dump the `g.edges()` data."
   ]
  },
  {
   "cell_type": "code",
   "execution_count": null,
   "metadata": {},
   "outputs": [],
   "source": [
    "g.edges(data=True)"
   ]
  },
  {
   "cell_type": "markdown",
   "metadata": {},
   "source": [
    "Write to disk."
   ]
  },
  {
   "cell_type": "code",
   "execution_count": null,
   "metadata": {},
   "outputs": [],
   "source": [
    "g_json_edgelist = list(g.edges(data=True))\n",
    "\n",
    "with open('class_edgelist_json.json','w') as f:\n",
    "    json.dump(g_json_edgelist,f)"
   ]
  },
  {
   "cell_type": "markdown",
   "metadata": {},
   "source": [
    "#### Loading data\n",
    "Load the CSV-style edgelist back in and use the `from_pandas_edgelist()` function to turn it into a graph."
   ]
  },
  {
   "cell_type": "code",
   "execution_count": null,
   "metadata": {},
   "outputs": [],
   "source": [
    "read_pandas_edgelist_df = pd.read_csv('class_edgelist_pandas.csv',index_col=0)\n",
    "\n",
    "# Inspect\n",
    "read_pandas_edgelist_df.head()"
   ]
  },
  {
   "cell_type": "code",
   "execution_count": null,
   "metadata": {},
   "outputs": [],
   "source": [
    "# Convert to a graph\n",
    "read_pandas_edgelist_g = nx.from_pandas_edgelist(read_pandas_edgelist_df,edge_attr=True)\n",
    "\n",
    "# Inspect the graph\n",
    "read_pandas_edgelist_g.edges(data=True)"
   ]
  },
  {
   "cell_type": "markdown",
   "metadata": {},
   "source": [
    "Load the JSON-style edgelist back in and use t"
   ]
  },
  {
   "cell_type": "code",
   "execution_count": null,
   "metadata": {},
   "outputs": [],
   "source": [
    "with open('class_edgelist_json.json','r') as f:\n",
    "    read_json_edgelist = json.load(f)\n",
    "    \n",
    "# Inspect\n",
    "read_json_edgelist"
   ]
  },
  {
   "cell_type": "code",
   "execution_count": null,
   "metadata": {},
   "outputs": [],
   "source": [
    "# Make an empty graph\n",
    "read_json_edgelist_g = nx.Graph()\n",
    "\n",
    "# Add all the edges from read_json_edgelist to the empty graph\n",
    "read_json_edgelist_g.add_edges_from(read_json_edgelist)\n",
    "\n",
    "# Inspect the graph\n",
    "read_json_edgelist_g.edges(data=True)"
   ]
  },
  {
   "cell_type": "markdown",
   "metadata": {},
   "source": [
    "### Reading and writing adjacency matrices\n",
    "\n",
    "Use the `to_pandas_adjacency` function to generate the DataFrame and write it to a CSV."
   ]
  },
  {
   "cell_type": "code",
   "execution_count": null,
   "metadata": {},
   "outputs": [],
   "source": [
    "g_pandas_adjacency_df = nx.to_pandas_adjacency(g)\n",
    "\n",
    "g_pandas_adjacency_df"
   ]
  },
  {
   "cell_type": "code",
   "execution_count": null,
   "metadata": {},
   "outputs": [],
   "source": [
    "g_pandas_adjacency_df.to_csv('class_adjacency_pandas.csv')"
   ]
  },
  {
   "cell_type": "markdown",
   "metadata": {},
   "source": [
    "Reading an adjacency matrix into Python and converting to a graph."
   ]
  },
  {
   "cell_type": "code",
   "execution_count": null,
   "metadata": {},
   "outputs": [],
   "source": [
    "read_pandas_edgelist_df = pd.read_csv('class_adjacency_pandas.csv',index_col=0)\n",
    "\n",
    "read_pandas_edgelist_df.head()"
   ]
  },
  {
   "cell_type": "code",
   "execution_count": null,
   "metadata": {},
   "outputs": [],
   "source": [
    "read_pandas_edgelist_g = nx.from_pandas_adjacency(read_pandas_edgelist_df)\n",
    "\n",
    "read_pandas_edgelist_g.edges(data=True)"
   ]
  },
  {
   "cell_type": "markdown",
   "metadata": {},
   "source": [
    "### Reading and writing GEXF\n",
    "\n",
    "This is one of the most flexible and widely-supported file formats so I used it all the time."
   ]
  },
  {
   "cell_type": "code",
   "execution_count": null,
   "metadata": {},
   "outputs": [],
   "source": [
    "nx.write_gexf(g,'class_gexf.gexf')"
   ]
  },
  {
   "cell_type": "code",
   "execution_count": null,
   "metadata": {},
   "outputs": [],
   "source": [
    "read_gexf = nx.read_gexf('class_gexf.gexf')\n",
    "\n",
    "read_gexf.edges(data=True)"
   ]
  },
  {
   "cell_type": "markdown",
   "metadata": {},
   "source": [
    "### Reading and writing GML"
   ]
  },
  {
   "cell_type": "code",
   "execution_count": null,
   "metadata": {},
   "outputs": [],
   "source": [
    "nx.write_gml(g,'class_gml.gml')"
   ]
  },
  {
   "cell_type": "code",
   "execution_count": null,
   "metadata": {},
   "outputs": [],
   "source": [
    "read_gml = nx.read_gml('class_gml.gml')\n",
    "\n",
    "read_gml.edges(data=True)"
   ]
  },
  {
   "cell_type": "markdown",
   "metadata": {},
   "source": [
    "## Exercises\n",
    "\n",
    "Use an appropriate `networkx` function to read the *Game of Thrones* Season 1 data and assign it to the variable `got_g`."
   ]
  },
  {
   "cell_type": "code",
   "execution_count": null,
   "metadata": {},
   "outputs": [],
   "source": []
  },
  {
   "cell_type": "markdown",
   "metadata": {},
   "source": [
    "Use an appropriate `networkx` function to display this graph as different data structures (edge list, adjacency matrix, adjacency list)."
   ]
  },
  {
   "cell_type": "code",
   "execution_count": null,
   "metadata": {},
   "outputs": [],
   "source": []
  },
  {
   "cell_type": "markdown",
   "metadata": {},
   "source": [
    "Use an appropriate `networkx` function to write this graph to a different file format than you used previously."
   ]
  },
  {
   "cell_type": "code",
   "execution_count": null,
   "metadata": {},
   "outputs": [],
   "source": []
  },
  {
   "cell_type": "markdown",
   "metadata": {},
   "source": [
    "## Appendix\n",
    "\n",
    "You don't need to run this code, I'm just providing it as an example of how the data we were using was made.\n",
    "\n",
    "Season 1 of *Game of Thrones* character co-occurrence network."
   ]
  },
  {
   "cell_type": "code",
   "execution_count": null,
   "metadata": {},
   "outputs": [],
   "source": [
    "# Load libraries\n",
    "import json, requests\n",
    "from itertools import combinations\n",
    "\n",
    "# Get the data\n",
    "got_episodes_json = requests.get('https://raw.githubusercontent.com/jeffreylancaster/game-of-thrones/master/data/episodes.json').json()\n",
    "\n",
    "# Inspect the data\n",
    "got_episodes_json['episodes'][0]['scenes'][0]"
   ]
  },
  {
   "cell_type": "code",
   "execution_count": null,
   "metadata": {},
   "outputs": [],
   "source": [
    "# Start with an empty undirected graph\n",
    "g = nx.Graph()\n",
    "\n",
    "# For each episode\n",
    "for _e in got_episodes_json['episodes'][:9]:\n",
    "\n",
    "    # Get the scenes\n",
    "    _scenes = _e['scenes']\n",
    "    \n",
    "    # For each scene\n",
    "    for _s in _scenes:\n",
    "        \n",
    "        # Make the character combinations\n",
    "        _combos = list(combinations([c['name'] for c in _s['characters']],2))\n",
    "        \n",
    "        # For each character combination\n",
    "        for (char1,char2) in _combos:\n",
    "            \n",
    "            # Check if the character combination is already in the network\n",
    "            if g.has_edge(char1,char2):\n",
    "                \n",
    "                # If it is, increment the edge weight by 1\n",
    "                g[char1][char2]['weight'] += 1\n",
    "                \n",
    "            else:\n",
    "                # If it is not, add the nodes and the edge with a weight of 1\n",
    "                g.add_edge(char1,char2,weight=1)\n",
    "                \n",
    "# Inspect\n",
    "g.number_of_nodes(), g.number_of_edges()"
   ]
  },
  {
   "cell_type": "code",
   "execution_count": null,
   "metadata": {},
   "outputs": [],
   "source": [
    "# Write as a edgelist\n",
    "pd_edgelist = nx.to_pandas_edgelist(g)\n",
    "pd_edgelist.to_csv('got_s1_edgelist.csv')\n",
    "\n",
    "# Write as an adjacency matrix\n",
    "pd_adjacency = nx.to_pandas_adjacency(g)\n",
    "pd_adjacency.to_csv('got_s1_adjacency.csv')\n",
    "\n",
    "# Write as GEXF\n",
    "nx.write_gexf(g,'got_s1.gexf')\n",
    "\n",
    "# Write as GML\n",
    "nx.write_gml(g,'got_s1.gml')"
   ]
  }
 ],
 "metadata": {
  "kernelspec": {
   "display_name": "Python 3",
   "language": "python",
   "name": "python3"
  },
  "language_info": {
   "codemirror_mode": {
    "name": "ipython",
    "version": 3
   },
   "file_extension": ".py",
   "mimetype": "text/x-python",
   "name": "python",
   "nbconvert_exporter": "python",
   "pygments_lexer": "ipython3",
   "version": "3.9.6"
  }
 },
 "nbformat": 4,
 "nbformat_minor": 2
}
